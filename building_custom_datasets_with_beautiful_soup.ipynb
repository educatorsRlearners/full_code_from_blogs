{
 "cells": [
  {
   "cell_type": "code",
   "execution_count": 1,
   "metadata": {},
   "outputs": [],
   "source": [
    "from bs4 import BeautifulSoup\n",
    "from itertools import chain\n",
    "\n",
    "import pandas as pd\n",
    "import requests"
   ]
  },
  {
   "cell_type": "code",
   "execution_count": 2,
   "metadata": {},
   "outputs": [],
   "source": [
    "url = 'https://locations.traderjoes.com/'\n",
    "page = requests.get(url)\n",
    "soup = BeautifulSoup(page.content, 'html.parser')"
   ]
  },
  {
   "cell_type": "code",
   "execution_count": 3,
   "metadata": {},
   "outputs": [],
   "source": [
    "all_page_links = [link.get('href') for link in soup.findAll('a')]"
   ]
  },
  {
   "cell_type": "code",
   "execution_count": 4,
   "metadata": {},
   "outputs": [],
   "source": [
    "results = soup.find(id=\"contentbegin\")\n",
    "states = [link.get('href') for link in results.find_all('a')]"
   ]
  },
  {
   "cell_type": "code",
   "execution_count": 5,
   "metadata": {},
   "outputs": [],
   "source": [
    "def get_content(url):\n",
    "    page = requests.get(url)\n",
    "    soup = BeautifulSoup(page.content, 'html.parser')\n",
    "    results = soup.find(id='contentbegin')\n",
    "    links = [link.get('href') for link in results.find_all('a')]\n",
    "    return links \n",
    "\n",
    "cities = [get_content(state) for state in states]\n",
    "\n",
    "flat_cities = list(chain(*cities))\n"
   ]
  },
  {
   "cell_type": "code",
   "execution_count": 6,
   "metadata": {},
   "outputs": [],
   "source": [
    "stores = [get_content(city) for city in flat_cities]"
   ]
  },
  {
   "cell_type": "code",
   "execution_count": 7,
   "metadata": {},
   "outputs": [],
   "source": [
    "all_stores = list(set(list(chain(*stores))))"
   ]
  },
  {
   "cell_type": "code",
   "execution_count": 9,
   "metadata": {},
   "outputs": [],
   "source": [
    "def get_info(url): \n",
    "    \"\"\"\n",
    "    Returns the information of interest for a given Trader Joe's store\n",
    "    Args:\n",
    "        url (list): URL of the store\n",
    "    Returns:\n",
    "        store_info  (list): Contains the store's name, city, state, zip, landline, \n",
    "                            cell phone, and URL\n",
    "    \"\"\"\n",
    "    page = requests.get(url)\n",
    "    soup = BeautifulSoup(page.content, 'html.parser')\n",
    "    results = soup.find(id='contentbegin')\n",
    "    store_name = results.find('div', class_=\"h1title\").get_text() \n",
    "    address = results.find('div', class_=\"addressline\").get_text().replace('\\t', \"\").strip().split('\\n')\n",
    "    address = [a.strip() for a in address]\n",
    "    address = list(filter(None, address))\n",
    "    del address[2] \n",
    "    \n",
    "    store_info = [store_name] + address +[url]\n",
    "\n",
    "    return store_info"
   ]
  },
  {
   "cell_type": "code",
   "execution_count": 10,
   "metadata": {},
   "outputs": [],
   "source": [
    "all_store_info = [get_info(store) for store in all_stores] \n",
    "\n",
    "info = ['store_name','street', 'city', 'state', 'zip', 'landline', 'mobile', 'website']"
   ]
  },
  {
   "cell_type": "code",
   "execution_count": 11,
   "metadata": {},
   "outputs": [],
   "source": [
    "df = pd.DataFrame(all_store_info, columns=info)    "
   ]
  },
  {
   "cell_type": "code",
   "execution_count": 12,
   "metadata": {},
   "outputs": [
    {
     "data": {
      "text/plain": [
       "store_name    524\n",
       "street        524\n",
       "city          524\n",
       "state         524\n",
       "zip           524\n",
       "landline      524\n",
       "mobile        521\n",
       "website       521\n",
       "dtype: int64"
      ]
     },
     "execution_count": 12,
     "metadata": {},
     "output_type": "execute_result"
    }
   ],
   "source": [
    "df.count()"
   ]
  },
  {
   "cell_type": "code",
   "execution_count": 13,
   "metadata": {},
   "outputs": [
    {
     "data": {
      "text/html": [
       "<div>\n",
       "<style scoped>\n",
       "    .dataframe tbody tr th:only-of-type {\n",
       "        vertical-align: middle;\n",
       "    }\n",
       "\n",
       "    .dataframe tbody tr th {\n",
       "        vertical-align: top;\n",
       "    }\n",
       "\n",
       "    .dataframe thead th {\n",
       "        text-align: right;\n",
       "    }\n",
       "</style>\n",
       "<table border=\"1\" class=\"dataframe\">\n",
       "  <thead>\n",
       "    <tr style=\"text-align: right;\">\n",
       "      <th></th>\n",
       "      <th>store_name</th>\n",
       "      <th>street</th>\n",
       "      <th>city</th>\n",
       "      <th>state</th>\n",
       "      <th>zip</th>\n",
       "      <th>landline</th>\n",
       "      <th>mobile</th>\n",
       "      <th>website</th>\n",
       "    </tr>\n",
       "  </thead>\n",
       "  <tbody>\n",
       "    <tr>\n",
       "      <th>104</th>\n",
       "      <td>Trader Joe's South Bend (600)</td>\n",
       "      <td>1140 East Howard</td>\n",
       "      <td>South Bend</td>\n",
       "      <td>IN</td>\n",
       "      <td>46617</td>\n",
       "      <td>https://locations.traderjoes.com/in/south-bend...</td>\n",
       "      <td>None</td>\n",
       "      <td>None</td>\n",
       "    </tr>\n",
       "    <tr>\n",
       "      <th>337</th>\n",
       "      <td>Trader Joe's Crestview Hills Grocery (788)</td>\n",
       "      <td>2780 Dixie Highway</td>\n",
       "      <td>Crestview Hills</td>\n",
       "      <td>KY</td>\n",
       "      <td>41017</td>\n",
       "      <td>https://locations.traderjoes.com/ky/crestview-...</td>\n",
       "      <td>None</td>\n",
       "      <td>None</td>\n",
       "    </tr>\n",
       "    <tr>\n",
       "      <th>500</th>\n",
       "      <td>Trader Joe's Crestview Hills Wine (789)</td>\n",
       "      <td>2785 Dixie Highway</td>\n",
       "      <td>Crestview Hills</td>\n",
       "      <td>KY</td>\n",
       "      <td>41017</td>\n",
       "      <td>https://locations.traderjoes.com/ky/crestview-...</td>\n",
       "      <td>None</td>\n",
       "      <td>None</td>\n",
       "    </tr>\n",
       "  </tbody>\n",
       "</table>\n",
       "</div>"
      ],
      "text/plain": [
       "                                     store_name              street  \\\n",
       "104               Trader Joe's South Bend (600)    1140 East Howard   \n",
       "337  Trader Joe's Crestview Hills Grocery (788)  2780 Dixie Highway   \n",
       "500     Trader Joe's Crestview Hills Wine (789)  2785 Dixie Highway   \n",
       "\n",
       "                city state    zip  \\\n",
       "104       South Bend    IN  46617   \n",
       "337  Crestview Hills    KY  41017   \n",
       "500  Crestview Hills    KY  41017   \n",
       "\n",
       "                                              landline mobile website  \n",
       "104  https://locations.traderjoes.com/in/south-bend...   None    None  \n",
       "337  https://locations.traderjoes.com/ky/crestview-...   None    None  \n",
       "500  https://locations.traderjoes.com/ky/crestview-...   None    None  "
      ]
     },
     "execution_count": 13,
     "metadata": {},
     "output_type": "execute_result"
    }
   ],
   "source": [
    "df[df.website.isna()]"
   ]
  },
  {
   "cell_type": "code",
   "execution_count": 14,
   "metadata": {},
   "outputs": [],
   "source": [
    "df.loc[df.website.isnull(), 'website'] = df['landline']\n",
    "df.loc[df.mobile.isnull(), \"landline\"] = None"
   ]
  },
  {
   "cell_type": "code",
   "execution_count": 15,
   "metadata": {},
   "outputs": [
    {
     "data": {
      "text/html": [
       "<div>\n",
       "<style scoped>\n",
       "    .dataframe tbody tr th:only-of-type {\n",
       "        vertical-align: middle;\n",
       "    }\n",
       "\n",
       "    .dataframe tbody tr th {\n",
       "        vertical-align: top;\n",
       "    }\n",
       "\n",
       "    .dataframe thead th {\n",
       "        text-align: right;\n",
       "    }\n",
       "</style>\n",
       "<table border=\"1\" class=\"dataframe\">\n",
       "  <thead>\n",
       "    <tr style=\"text-align: right;\">\n",
       "      <th></th>\n",
       "      <th>store_name</th>\n",
       "      <th>street</th>\n",
       "      <th>city</th>\n",
       "      <th>state</th>\n",
       "      <th>zip</th>\n",
       "      <th>landline</th>\n",
       "      <th>mobile</th>\n",
       "      <th>website</th>\n",
       "    </tr>\n",
       "  </thead>\n",
       "  <tbody>\n",
       "    <tr>\n",
       "      <th>104</th>\n",
       "      <td>Trader Joe's South Bend (600)</td>\n",
       "      <td>1140 East Howard</td>\n",
       "      <td>South Bend</td>\n",
       "      <td>IN</td>\n",
       "      <td>46617</td>\n",
       "      <td>None</td>\n",
       "      <td>None</td>\n",
       "      <td>https://locations.traderjoes.com/in/south-bend...</td>\n",
       "    </tr>\n",
       "    <tr>\n",
       "      <th>337</th>\n",
       "      <td>Trader Joe's Crestview Hills Grocery (788)</td>\n",
       "      <td>2780 Dixie Highway</td>\n",
       "      <td>Crestview Hills</td>\n",
       "      <td>KY</td>\n",
       "      <td>41017</td>\n",
       "      <td>None</td>\n",
       "      <td>None</td>\n",
       "      <td>https://locations.traderjoes.com/ky/crestview-...</td>\n",
       "    </tr>\n",
       "    <tr>\n",
       "      <th>500</th>\n",
       "      <td>Trader Joe's Crestview Hills Wine (789)</td>\n",
       "      <td>2785 Dixie Highway</td>\n",
       "      <td>Crestview Hills</td>\n",
       "      <td>KY</td>\n",
       "      <td>41017</td>\n",
       "      <td>None</td>\n",
       "      <td>None</td>\n",
       "      <td>https://locations.traderjoes.com/ky/crestview-...</td>\n",
       "    </tr>\n",
       "  </tbody>\n",
       "</table>\n",
       "</div>"
      ],
      "text/plain": [
       "                                     store_name              street  \\\n",
       "104               Trader Joe's South Bend (600)    1140 East Howard   \n",
       "337  Trader Joe's Crestview Hills Grocery (788)  2780 Dixie Highway   \n",
       "500     Trader Joe's Crestview Hills Wine (789)  2785 Dixie Highway   \n",
       "\n",
       "                city state    zip landline mobile  \\\n",
       "104       South Bend    IN  46617     None   None   \n",
       "337  Crestview Hills    KY  41017     None   None   \n",
       "500  Crestview Hills    KY  41017     None   None   \n",
       "\n",
       "                                               website  \n",
       "104  https://locations.traderjoes.com/in/south-bend...  \n",
       "337  https://locations.traderjoes.com/ky/crestview-...  \n",
       "500  https://locations.traderjoes.com/ky/crestview-...  "
      ]
     },
     "execution_count": 15,
     "metadata": {},
     "output_type": "execute_result"
    }
   ],
   "source": [
    "df.loc[df.mobile.isnull(), ]"
   ]
  },
  {
   "cell_type": "code",
   "execution_count": 16,
   "metadata": {},
   "outputs": [
    {
     "data": {
      "text/plain": [
       "store_name    524\n",
       "street        524\n",
       "city          524\n",
       "state         524\n",
       "zip           524\n",
       "landline      521\n",
       "mobile        521\n",
       "website       524\n",
       "dtype: int64"
      ]
     },
     "execution_count": 16,
     "metadata": {},
     "output_type": "execute_result"
    }
   ],
   "source": [
    "df.count()"
   ]
  }
 ],
 "metadata": {
  "kernelspec": {
   "display_name": "Python 3.6.10 64-bit ('base': conda)",
   "name": "tutorials"
  },
  "language_info": {
   "codemirror_mode": {
    "name": "ipython",
    "version": 3
   },
   "file_extension": ".py",
   "mimetype": "text/x-python",
   "name": "python",
   "nbconvert_exporter": "python",
   "pygments_lexer": "ipython3",
   "version": "3.6.10"
  },
  "orig_nbformat": 4
 },
 "nbformat": 4,
 "nbformat_minor": 2
}